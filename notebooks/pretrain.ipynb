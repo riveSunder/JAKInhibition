{
 "cells": [
  {
   "cell_type": "code",
   "execution_count": null,
   "id": "45c24290-babb-4910-8f4c-caff0cd783ad",
   "metadata": {},
   "outputs": [],
   "source": [
    "import os\n",
    "\n",
    "import pandas as pd\n",
    "import numpy as np\n",
    "\n",
    "import torch\n",
    "\n",
    "from jak.transformer import XFormer, xformer_train\n",
    "\n",
    "from jak.data import make_token_dict, \\\n",
    "        sequence_to_vectors, \\\n",
    "        one_hot_to_sequence, \\\n",
    "        tokens_to_one_hot"
   ]
  },
  {
   "cell_type": "code",
   "execution_count": null,
   "id": "4c52d029-69b8-4c01-bb41-c85e9a6ffbf8",
   "metadata": {},
   "outputs": [],
   "source": [
    "smiles_vocab = \"#()+-1234567=BCFHINOPS[]cilnors\"\n",
    "token_dict = make_token_dict(smiles_vocab)"
   ]
  },
  {
   "cell_type": "code",
   "execution_count": null,
   "id": "07e2b6d5-71fe-4bca-9369-2e3a8b56ec8c",
   "metadata": {},
   "outputs": [],
   "source": [
    "# train model \n",
    "\n",
    "#dataset_filename = \"mini_one_hot_smiles.npy\"\n",
    "dataset_filename = \"jak_one_hot_smiles.npy\"\n",
    "\n",
    "kwargs = {\"lr\": 3e-5,\\\n",
    "        \"max_epochs\": 256,\\\n",
    "        \"seed\": 13,\\\n",
    "        \"batch_size\": 4,\\\n",
    "        \"device\": \"cpu\",\\\n",
    "        \"tag\": \"jak_smiles\",\\\n",
    "        \"x_data\": os.path.join(\"..\",\"data\", dataset_filename)\\\n",
    "        }\n",
    "          \n",
    "xformer_train(**kwargs)\n"
   ]
  },
  {
   "cell_type": "code",
   "execution_count": null,
   "id": "88a7c1ff-c034-498f-83dd-c635e3782467",
   "metadata": {},
   "outputs": [],
   "source": [
    "smiles_vocab = \"#()+-1234567=BCFHINOPS[]cilnors\"\n",
    "token_dict = make_token_dict(smiles_vocab)\n",
    "df = pd.read_csv(\"../data/train_JAK.csv\")\n",
    "dataset = list(df[\"SMILES\"])"
   ]
  },
  {
   "cell_type": "code",
   "execution_count": null,
   "id": "306445bc-0375-4abb-9aee-0483634af52c",
   "metadata": {},
   "outputs": [],
   "source": [
    "model = XFormer(vocab=smiles_vocab, token_dim=36, seq_length=128, lr=1e-3, device=\"cpu\", tag=\"\")\n",
    "\n",
    "my_template = \"Input: \\n\\t{} \\nOutput (reconstructed input): \\n\\t{}\"\n",
    "\n",
    "print(\"SMILES reconstruction before training\")\n",
    "print(my_template.format(dataset[0], model.seq2seq(dataset[0])))\n",
    "\n",
    "checkpoint = \"tag_xformer_test_run_seed13_epoch99.pt\"\n",
    "model_path = os.path.join(\"parameters\", \"xformer_test_run_seed13\", f\"{checkpoint}\")\n",
    "model_state_dict = torch.load(model_path, map_location=model.my_device)\n",
    "model.load_state_dict(model_state_dict)\n",
    "\n",
    "print(f\"SMILES reconstruction after training, model checkpoint {checkpoint}\")\n",
    "print(my_template.format(dataset[0], model.seq2seq(dataset[0])))"
   ]
  },
  {
   "cell_type": "code",
   "execution_count": null,
   "id": "4d5c94bb-9ced-49bb-b2a0-d0d188bf4500",
   "metadata": {},
   "outputs": [],
   "source": []
  },
  {
   "cell_type": "code",
   "execution_count": null,
   "id": "796ab3d9-d087-401a-b0af-cf35ea279dff",
   "metadata": {},
   "outputs": [],
   "source": []
  }
 ],
 "metadata": {
  "kernelspec": {
   "display_name": "Python 3 (ipykernel)",
   "language": "python",
   "name": "python3"
  },
  "language_info": {
   "codemirror_mode": {
    "name": "ipython",
    "version": 3
   },
   "file_extension": ".py",
   "mimetype": "text/x-python",
   "name": "python",
   "nbconvert_exporter": "python",
   "pygments_lexer": "ipython3",
   "version": "3.8.0"
  }
 },
 "nbformat": 4,
 "nbformat_minor": 5
}
