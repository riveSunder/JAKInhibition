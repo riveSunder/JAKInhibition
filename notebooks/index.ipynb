{
 "cells": [
  {
   "cell_type": "markdown",
   "id": "985f53d3",
   "metadata": {},
   "source": [
    "# Index\n",
    "\n",
    "## [Exploratory Data Analysis](eda.ipynb)\n",
    "## [Data Processing](data_processing.ipynb)\n",
    "## [Model Development](model_development.ipynb)\n",
    "## [Model Evaluation](model_evaluation.ipynb)\n",
    "## [Model Deployment](model_deployment.ipynb)\n",
    "## [Future Ideas](future_ideas.ipynb)\n"
   ]
  },
  {
   "cell_type": "code",
   "execution_count": null,
   "id": "2f4ee01c",
   "metadata": {},
   "outputs": [],
   "source": []
  }
 ],
 "metadata": {
  "kernelspec": {
   "display_name": "Python 3 (ipykernel)",
   "language": "python",
   "name": "python3"
  },
  "language_info": {
   "codemirror_mode": {
    "name": "ipython",
    "version": 3
   },
   "file_extension": ".py",
   "mimetype": "text/x-python",
   "name": "python",
   "nbconvert_exporter": "python",
   "pygments_lexer": "ipython3",
   "version": "3.8.0"
  }
 },
 "nbformat": 4,
 "nbformat_minor": 5
}
