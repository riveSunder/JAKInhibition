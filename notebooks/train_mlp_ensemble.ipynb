{
 "cells": [
  {
   "cell_type": "code",
   "execution_count": null,
   "id": "05a54afc-2cbc-49fe-ac78-0e0acb639145",
   "metadata": {},
   "outputs": [],
   "source": [
    "import argparse\n",
    "import os\n",
    "import json\n",
    "\n",
    "import time\n",
    "import numpy as np\n",
    "\n",
    "from jak.mlp import SimpleMLP, MLPCohort, mlp_train\n"
   ]
  },
  {
   "cell_type": "code",
   "execution_count": null,
   "id": "e18d5528-33cd-41c8-a2b4-757fe5979e8f",
   "metadata": {},
   "outputs": [],
   "source": [
    "kwargs = {\"batch_size\": 64,\\\n",
    "        \"cohort_size\": 16,\\\n",
    "        \"device\": \"cpu\",\\\n",
    "        \"depth\": 8,\\\n",
    "        \"lr\": 3e-4,\\\n",
    "        \"max_epochs\": 1024,\\\n",
    "        \"seed\": 13,\\\n",
    "        \"tag\": \"mlp_cohort_trial\",\\\n",
    "        \"x_data\": \"../data/jakinase_x.pt\",\\\n",
    "        \"y_data\": \"../data/jakinase_y.pt\"\n",
    "        }   \n",
    "\n",
    "mlp_train(**kwargs)\n"
   ]
  }
 ],
 "metadata": {
  "kernelspec": {
   "display_name": "Python 3 (ipykernel)",
   "language": "python",
   "name": "python3"
  },
  "language_info": {
   "codemirror_mode": {
    "name": "ipython",
    "version": 3
   },
   "file_extension": ".py",
   "mimetype": "text/x-python",
   "name": "python",
   "nbconvert_exporter": "python",
   "pygments_lexer": "ipython3",
   "version": "3.8.0"
  }
 },
 "nbformat": 4,
 "nbformat_minor": 5
}
