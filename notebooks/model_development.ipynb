{
 "cells": [
  {
   "cell_type": "markdown",
   "id": "4fd00226",
   "metadata": {},
   "source": [
    "# Model Development\n",
    "\n",
    "Training a new system for predicting kinase inhibition metrics consists of two parts: \n",
    "\n",
    "1. Training an autoregressive transformer model on SMILES sequences\n",
    "2. Training a bootstrap ensemble of MLPs on encoded features extracted \n",
    "\n",
    "## Training workflow quick start\n",
    "\n",
    "```\n",
    "virtualenv jak_env --python==python3.8\n",
    "source jak_env/bin/activate\n",
    "git clone git@github.com:riveSunder/JAKInhibition.git\n",
    "cd JAKInhibition\n",
    "\n",
    "pip install -e .\n",
    "pip install -r requirements.txt\n",
    "\n",
    "# pre-training: transformer model (log output to logs/transformer_log.txt\n",
    "python -m jak.transformer -t transformer -b 16 -l 1e-2 -m 10000 > logs/transformer_log.txt\n",
    "```\n",
    "You can use [this notebook](encode_smiles.ipynb) to extract features from SMILES sequences using the pre-trained transformer.\n",
    "\n",
    "```\n",
    "# regression training MLP ensemble\n",
    "python -m jak.mlp.py -m 10000 -t ensemble_003 > logs/ensemble_003.txt\n",
    "```\n",
    "\n"
   ]
  }
 ],
 "metadata": {
  "kernelspec": {
   "display_name": "Python 3 (ipykernel)",
   "language": "python",
   "name": "python3"
  },
  "language_info": {
   "codemirror_mode": {
    "name": "ipython",
    "version": 3
   },
   "file_extension": ".py",
   "mimetype": "text/x-python",
   "name": "python",
   "nbconvert_exporter": "python",
   "pygments_lexer": "ipython3",
   "version": "3.8.0"
  }
 },
 "nbformat": 4,
 "nbformat_minor": 5
}
