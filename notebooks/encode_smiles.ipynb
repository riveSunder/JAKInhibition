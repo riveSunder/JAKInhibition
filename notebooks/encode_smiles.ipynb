{
 "cells": [
  {
   "cell_type": "code",
   "execution_count": null,
   "id": "204b7842",
   "metadata": {},
   "outputs": [],
   "source": [
    "import numpy.random as npr\n",
    "import numpy as np\n",
    "\n",
    "import torch \n",
    "from jak.transformer import XFormer\n",
    "\n",
    "import pandas as pd\n",
    "\n",
    "import matplotlib.pyplot as plt\n",
    "my_cmap = plt.get_cmap(\"plasma\")\n",
    "\n",
    "\n",
    "import numpy as np"
   ]
  },
  {
   "cell_type": "code",
   "execution_count": null,
   "id": "8f23e3a8",
   "metadata": {},
   "outputs": [],
   "source": [
    "df = pd.read_csv(\"../data/train_JAK.csv\")\n",
    "df.head()"
   ]
  },
  {
   "cell_type": "code",
   "execution_count": null,
   "id": "8d0125e3",
   "metadata": {},
   "outputs": [],
   "source": [
    "smiles_vocab = \"#()+-1234567=BCFHINOPS[]cilnors\"\n",
    "\n",
    "model = XFormer(vocab=smiles_vocab, token_dim=36, seq_length=128, lr=1e-3, device=\"cpu\", tag=\"inference\")\n",
    "#model_path = \"../parameters/xformer_x003_seed42/tag_xformer_x003_seed42_epoch299.pt\"\n",
    "model_path = \"./parameters/xformer_test_run_seed13/tag_xformer_test_run_seed13_epoch99.pt\"\n",
    "\n",
    "model_state_dict = torch.load(model_path, map_location=model.my_device)\n",
    "\n",
    "model.load_state_dict(model_state_dict)"
   ]
  },
  {
   "cell_type": "code",
   "execution_count": null,
   "id": "cb950a94",
   "metadata": {},
   "outputs": [],
   "source": [
    "# encode SMILES into numpy arrays of features\n",
    "\n",
    "num_values = len(df[\"Kinase_name\"].unique()) * len(df[\"measurement_type\"].unique())\n",
    "\n",
    "x = torch.Tensor()\n",
    "y = torch.Tensor()\n",
    "\n",
    "x_dict = {}\n",
    "y_dict = {}\n",
    "\n",
    "m_dict = {\"pIC50\": 0 , \"pKi\": 1}\n",
    "e_dict = {\"JAK1\": 0, \"JAK2\": 1, \"JAK3\": 2, \"TYK2\": 3}\n",
    "\n",
    "number_enzymes = 4\n",
    "with torch.no_grad():\n",
    "    for ii in range(len(df)):\n",
    "        my_smile = df[\"SMILES\"][ii]\n",
    "        if my_smile not in x_dict.keys():\n",
    "            encoded = model.encode(my_smile).reshape(1, -1) #unsqueeze(0)\n",
    "            x_dict[my_smile] = encoded\n",
    "            y_dict[my_smile] = [0.0] * num_values\n",
    "\n",
    "        index = m_dict[df[\"measurement_type\"][ii]] * number_enzymes + e_dict[df[\"Kinase_name\"][ii]]\n",
    "        y_dict[my_smile][index] = df[\"measurement_value\"][ii]\n"
   ]
  },
  {
   "cell_type": "code",
   "execution_count": null,
   "id": "cfc22272",
   "metadata": {},
   "outputs": [],
   "source": [
    "x_dict[my_smile].shape"
   ]
  },
  {
   "cell_type": "code",
   "execution_count": null,
   "id": "3c028587",
   "metadata": {},
   "outputs": [],
   "source": [
    "x = torch.Tensor()\n",
    "y = torch.Tensor()\n",
    "\n",
    "for key in x_dict.keys():\n",
    "    \n",
    "    x = torch.cat([x, x_dict[key]])\n",
    "    y = torch.cat([y, torch.tensor(y_dict[key]).reshape(1, num_values)])\n",
    "    \n",
    "print(x.shape, y.shape)    "
   ]
  },
  {
   "cell_type": "code",
   "execution_count": null,
   "id": "bdcd4f20",
   "metadata": {},
   "outputs": [],
   "source": [
    "x.shape, y.shape\n",
    "\n",
    "x_filepath = \"../data/jakinase_x\"\n",
    "y_filepath = \"../data/jakinase_y\"\n",
    "\n",
    "torch.save(x, f\"{x_filepath}.pt\")\n",
    "torch.save(y, f\"{y_filepath}.pt\")\n",
    "\n",
    "np.save(f\"{x_filepath}.npy\", x.numpy())\n",
    "np.save(f\"{y_filepath}.npy\", y.numpy())"
   ]
  },
  {
   "cell_type": "code",
   "execution_count": null,
   "id": "05aba229",
   "metadata": {},
   "outputs": [],
   "source": []
  }
 ],
 "metadata": {
  "kernelspec": {
   "display_name": "Python 3 (ipykernel)",
   "language": "python",
   "name": "python3"
  },
  "language_info": {
   "codemirror_mode": {
    "name": "ipython",
    "version": 3
   },
   "file_extension": ".py",
   "mimetype": "text/x-python",
   "name": "python",
   "nbconvert_exporter": "python",
   "pygments_lexer": "ipython3",
   "version": "3.8.0"
  }
 },
 "nbformat": 4,
 "nbformat_minor": 5
}
