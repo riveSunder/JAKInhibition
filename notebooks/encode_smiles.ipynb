{
 "cells": [
  {
   "cell_type": "code",
   "execution_count": 1,
   "id": "204b7842",
   "metadata": {},
   "outputs": [],
   "source": [
    "import numpy.random as npr\n",
    "import numpy as np\n",
    "\n",
    "import torch \n",
    "from jak.transformer import XFormer\n",
    "\n",
    "import pandas as pd\n",
    "\n",
    "import matplotlib.pyplot as plt\n",
    "my_cmap = plt.get_cmap(\"plasma\")\n",
    "\n",
    "\n",
    "import numpy as np"
   ]
  },
  {
   "cell_type": "code",
   "execution_count": 2,
   "id": "8f23e3a8",
   "metadata": {},
   "outputs": [
    {
     "data": {
      "text/html": [
       "<div>\n",
       "<style scoped>\n",
       "    .dataframe tbody tr th:only-of-type {\n",
       "        vertical-align: middle;\n",
       "    }\n",
       "\n",
       "    .dataframe tbody tr th {\n",
       "        vertical-align: top;\n",
       "    }\n",
       "\n",
       "    .dataframe thead th {\n",
       "        text-align: right;\n",
       "    }\n",
       "</style>\n",
       "<table border=\"1\" class=\"dataframe\">\n",
       "  <thead>\n",
       "    <tr style=\"text-align: right;\">\n",
       "      <th></th>\n",
       "      <th>SMILES</th>\n",
       "      <th>measurement_type</th>\n",
       "      <th>measurement_value</th>\n",
       "      <th>Kinase_name</th>\n",
       "    </tr>\n",
       "  </thead>\n",
       "  <tbody>\n",
       "    <tr>\n",
       "      <th>0</th>\n",
       "      <td>C#CCCOC(=O)N1CCC(n2cc(C(N)=O)c(Nc3ccc(F)cc3)n2...</td>\n",
       "      <td>pIC50</td>\n",
       "      <td>6.81</td>\n",
       "      <td>JAK2</td>\n",
       "    </tr>\n",
       "    <tr>\n",
       "      <th>1</th>\n",
       "      <td>C#CCCOC(=O)N1CCC(n2cc(C(N)=O)c(Nc3ccc(F)cc3)n2...</td>\n",
       "      <td>pIC50</td>\n",
       "      <td>8.05</td>\n",
       "      <td>JAK1</td>\n",
       "    </tr>\n",
       "    <tr>\n",
       "      <th>2</th>\n",
       "      <td>C#CCN(c1ccc(C#N)cn1)C1CCN(c2ncnc3[nH]ccc23)C1</td>\n",
       "      <td>pIC50</td>\n",
       "      <td>10.26</td>\n",
       "      <td>JAK2</td>\n",
       "    </tr>\n",
       "    <tr>\n",
       "      <th>3</th>\n",
       "      <td>C#CCN(c1ccc(C#N)cn1)C1CCN(c2ncnc3[nH]ccc23)C1</td>\n",
       "      <td>pIC50</td>\n",
       "      <td>10.26</td>\n",
       "      <td>JAK1</td>\n",
       "    </tr>\n",
       "    <tr>\n",
       "      <th>4</th>\n",
       "      <td>C#CCNCC1CCC(c2nnn3cnc4[nH]ccc4c23)CC1</td>\n",
       "      <td>pIC50</td>\n",
       "      <td>7.36</td>\n",
       "      <td>JAK2</td>\n",
       "    </tr>\n",
       "  </tbody>\n",
       "</table>\n",
       "</div>"
      ],
      "text/plain": [
       "                                              SMILES measurement_type  \\\n",
       "0  C#CCCOC(=O)N1CCC(n2cc(C(N)=O)c(Nc3ccc(F)cc3)n2...            pIC50   \n",
       "1  C#CCCOC(=O)N1CCC(n2cc(C(N)=O)c(Nc3ccc(F)cc3)n2...            pIC50   \n",
       "2      C#CCN(c1ccc(C#N)cn1)C1CCN(c2ncnc3[nH]ccc23)C1            pIC50   \n",
       "3      C#CCN(c1ccc(C#N)cn1)C1CCN(c2ncnc3[nH]ccc23)C1            pIC50   \n",
       "4              C#CCNCC1CCC(c2nnn3cnc4[nH]ccc4c23)CC1            pIC50   \n",
       "\n",
       "   measurement_value Kinase_name  \n",
       "0               6.81        JAK2  \n",
       "1               8.05        JAK1  \n",
       "2              10.26        JAK2  \n",
       "3              10.26        JAK1  \n",
       "4               7.36        JAK2  "
      ]
     },
     "execution_count": 2,
     "metadata": {},
     "output_type": "execute_result"
    }
   ],
   "source": [
    "df = pd.read_csv(\"../data/train_JAK.csv\")\n",
    "df.head()"
   ]
  },
  {
   "cell_type": "code",
   "execution_count": 5,
   "id": "8d0125e3",
   "metadata": {},
   "outputs": [
    {
     "data": {
      "text/plain": [
       "<All keys matched successfully>"
      ]
     },
     "execution_count": 5,
     "metadata": {},
     "output_type": "execute_result"
    }
   ],
   "source": [
    "smiles_vocab = \"#()+-1234567=BCFHINOPS[]cilnors\"\n",
    "model = XFormer(vocab=smiles_vocab, token_dim=33, seq_length=100, lr=1e-3, device=\"cpu\", tag=\"inference\")\n",
    "model_state_dict = torch.load(\"../parameters/xformer_x003_seed42/tag_xformer_x003_seed42_epoch299.pt\", \\\n",
    "                              map_location=model.my_device)\n",
    "model.load_state_dict(model_state_dict)"
   ]
  },
  {
   "cell_type": "code",
   "execution_count": 6,
   "id": "cb950a94",
   "metadata": {},
   "outputs": [],
   "source": [
    "# encode SMILES into numpy arrays of features\n",
    "\n",
    "num_values = len(df[\"Kinase_name\"].unique()) * len(df[\"measurement_type\"].unique())\n",
    "\n",
    "x = torch.Tensor()\n",
    "y = torch.Tensor()\n",
    "\n",
    "x_dict = {}\n",
    "y_dict = {}\n",
    "\n",
    "m_dict = {\"pIC50\": 0 , \"pKi\": 1}\n",
    "e_dict = {\"JAK1\": 0, \"JAK2\": 1, \"JAK3\": 2, \"TYK2\": 3}\n",
    "\n",
    "number_enzymes = 4\n",
    "with torch.no_grad():\n",
    "    for ii in range(len(df)):\n",
    "        my_smile = df[\"SMILES\"][ii]\n",
    "        if my_smile not in x_dict.keys():\n",
    "            encoded = model.encode(my_smile).reshape(1, -1) #unsqueeze(0)\n",
    "            x_dict[my_smile] = encoded\n",
    "            y_dict[my_smile] = [0.0] * num_values\n",
    "\n",
    "        index = m_dict[df[\"measurement_type\"][ii]] * number_enzymes + e_dict[df[\"Kinase_name\"][ii]]\n",
    "        y_dict[my_smile][index] = df[\"measurement_value\"][ii]\n"
   ]
  },
  {
   "cell_type": "code",
   "execution_count": 7,
   "id": "cfc22272",
   "metadata": {},
   "outputs": [
    {
     "data": {
      "text/plain": [
       "torch.Size([1, 3300])"
      ]
     },
     "execution_count": 7,
     "metadata": {},
     "output_type": "execute_result"
    }
   ],
   "source": [
    "x_dict[my_smile].shape"
   ]
  },
  {
   "cell_type": "code",
   "execution_count": 8,
   "id": "3c028587",
   "metadata": {},
   "outputs": [
    {
     "name": "stdout",
     "output_type": "stream",
     "text": [
      "torch.Size([4084, 3300]) torch.Size([4084, 8])\n"
     ]
    }
   ],
   "source": [
    "\n",
    "x = torch.Tensor()\n",
    "y = torch.Tensor()\n",
    "\n",
    "for key in x_dict.keys():\n",
    "    \n",
    "    x = torch.cat([x, x_dict[key]])\n",
    "    y = torch.cat([y, torch.tensor(y_dict[key]).reshape(1, num_values)])\n",
    "    \n",
    "print(x.shape, y.shape)    "
   ]
  },
  {
   "cell_type": "code",
   "execution_count": 9,
   "id": "bdcd4f20",
   "metadata": {},
   "outputs": [],
   "source": [
    "x.shape, y.shape\n",
    "\n",
    "torch.save(x, \"../data/kinase_x003.pt\")\n",
    "torch.save(y, \"../data/kinase_y003.pt\")\n",
    "\n",
    "np.save(\"../data/kinase_x003.npy\", x.numpy())\n",
    "np.save(\"../data/kinase_y003.npy\", y.numpy())"
   ]
  },
  {
   "cell_type": "code",
   "execution_count": null,
   "id": "05aba229",
   "metadata": {},
   "outputs": [],
   "source": []
  }
 ],
 "metadata": {
  "kernelspec": {
   "display_name": "Python 3 (ipykernel)",
   "language": "python",
   "name": "python3"
  },
  "language_info": {
   "codemirror_mode": {
    "name": "ipython",
    "version": 3
   },
   "file_extension": ".py",
   "mimetype": "text/x-python",
   "name": "python",
   "nbconvert_exporter": "python",
   "pygments_lexer": "ipython3",
   "version": "3.8.0"
  }
 },
 "nbformat": 4,
 "nbformat_minor": 5
}
