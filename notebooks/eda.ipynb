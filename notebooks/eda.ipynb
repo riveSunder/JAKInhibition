{
 "cells": [
  {
   "cell_type": "markdown",
   "id": "f04bb1c2",
   "metadata": {},
   "source": [
    "# Exploratory Data Analysis\n",
    "\n",
    "![histogram.png](../assets/histogram.png \"histogram\")\n",
    "\n",
    "## Summary\n",
    "\n",
    "#### How many different molelecules are represented in the dataset? \n",
    "In the training dataset of 9768 entries, 4084 unique molecule strings are present. \n",
    " \n",
    "#### What are the relative proportions of pIC50 and pKi measurements?\n",
    "\n",
    "There are abokut 4 times as many pIC50 measurements as pKi measurements. Our objective is to estimate pKi values, so leveraging the 'extra' samples that only include the related pIC50 values will be important. \n",
    "\n",
    "#### What are typical values for pKi and pIC50? \n",
    "\n",
    "Values fall within a similar range of about 6 to 12, but pKi values tend to be a little higher and are less spread out. Neither follows a very Normal distribution.\n",
    "\n",
    "#### How many measurements of which type are present for each enzyme? \n",
    "\n",
    "pKi measurements are rare in this dataset. While there are up to 2900 measurements of pIC50 for a single enzyme (JAK1), pKi measurements range from 143 (TYK2) to 608 (JAK1) samples. \n",
    "\n",
    "![measurements](../assets/measurement_frequency.png \"samples by enzyme and measurement type\")\n",
    "\n",
    "\n",
    "## EDA notes \n",
    "\n",
    "The training dataset contains nearly 10,000 entries but only 4,084 unique molecules. Measurements are mostly pIC50 and enzymes in the datasets are present in decreasing frequency from JAK1/JAK2, JAK3, and TYK2. There are only a small number of samples with pKi measurements, and class imbalances between enzymes. \n",
    "\n",
    "To take advantage of the most plentiful data offered in the dataset, the SMILES sequences, my initial approach is to train an autoregressive transformer model on the SMILES strings. The next step is to use the pre-trained transformer as a feature extractor to train an ensemble of multilayer perceptrons (MLPs). \n",
    "\n",
    "The MLPs are trained as a cohort in bootstrap fashion, _i.e._ they are randomly exposed to different minibatches during training. Each MLP outputs predictions for each enzyme and measurement type (8 values), and losses are calculated with masks according to the measurements that are present for each molecule. Compared to training separate models for each measurement type and/or enzyme, this should allow the models to learn more general ways to process the featuers encoded by the transformer model.\n",
    "\n",
    "At inference time, the entire ensemble is queried and the statistics of their predictions gives us a hint of prediction uncertainty. I consider uncertainty estimates to be important in situations with a small number of imbalanced samples. Another way to estimate uncertainty is to use the loss of an autoencoder as a proxy for novelty, with higher autoencoder losses corresponding to more rarely seen data. I did not use this method here (or its close cousin, random network distillation), but it would be worth investigating in future work, by training an autoencoder on the transformer encoded features.\n"
   ]
  },
  {
   "cell_type": "code",
   "execution_count": null,
   "id": "e62bc1be",
   "metadata": {},
   "outputs": [],
   "source": [
    "import numpy.random as npr\n",
    "import numpy as np\n",
    "\n",
    "import pandas as pd\n",
    "\n",
    "import matplotlib.pyplot as plt\n",
    "my_cmap = plt.get_cmap(\"viridis\")\n",
    "\n",
    "from importlib import reload\n",
    "\n"
   ]
  },
  {
   "cell_type": "code",
   "execution_count": null,
   "id": "b12c0018",
   "metadata": {},
   "outputs": [],
   "source": [
    "df = pd.read_csv(\"../data/train_JAK.csv\")\n",
    "df.head(10)"
   ]
  },
  {
   "cell_type": "code",
   "execution_count": null,
   "id": "9c2119fc",
   "metadata": {},
   "outputs": [],
   "source": [
    "\n",
    "print(\"\\n Whole dataset statistics \\n\", df.describe())\n",
    "print(\"\\n pIC50 statistics \\n\", df.loc[df['measurement_type'] == \"pIC50\"].describe())\n",
    "print(\"\\n pKi statistics \\n\", df.loc[df['measurement_type'] == \"pKi\"].describe())"
   ]
  },
  {
   "cell_type": "code",
   "execution_count": null,
   "id": "b777c515",
   "metadata": {},
   "outputs": [],
   "source": [
    "unique_smiles = df[\"SMILES\"].unique()\n",
    "\n",
    "number_smiles = len(unique_smiles)\n",
    "\n",
    "print(f\"Dataset contains {number_smiles} unique molecules\")\n",
    "\n",
    "labels = []\n",
    "sample_counts = []\n",
    "for measurement in [\"pIC50\", \"pKi\"]:\n",
    "    \n",
    "    m_df = df.loc[df[\"measurement_type\"] == measurement]\n",
    "    \n",
    "    for enzyme in [\"JAK1\", \"JAK2\", \"JAK3\", \"TYK2\"]:\n",
    "        me_df = m_df.loc[m_df[\"Kinase_name\"] == enzyme]\n",
    "        \n",
    "        message = f\"\\ndataset includes {len(me_df)} {measurement} measurements of {enzyme}\"\n",
    "        print(message)\n",
    "        \n",
    "        labels.append(f\"{measurement}:{enzyme}\")\n",
    "        sample_counts.append(len(me_df))\n",
    "        \n",
    "fig, ax = plt.subplots(1,1, figsize=(6,5))\n",
    "ax.bar(labels, sample_counts, color=my_cmap(20))\n",
    "\n",
    "ax.set_ylabel(\"number of samples\")\n",
    "#ax.set_xticks([ii*2 for ii, elem in enumerate(labels)])\n",
    "#ax.set_xticklabels(labels)\n",
    "plt.xticks(rotation = 20)\n",
    "#plt.tight_layout()\n",
    "plt.title(\"Measurement frequency by type and enzyme\")\n",
    "plt.savefig(\"../assets/measurement_frequency.png\")\n",
    "plt.show()"
   ]
  },
  {
   "cell_type": "code",
   "execution_count": null,
   "id": "3e8ccd6f",
   "metadata": {},
   "outputs": [],
   "source": [
    "pic50 = df.loc[df['measurement_type'] == \"pIC50\"][\"measurement_value\"].to_numpy()\n",
    "pki = df.loc[df['measurement_type'] == \"pKi\"][\"measurement_value\"].to_numpy()"
   ]
  },
  {
   "cell_type": "code",
   "execution_count": null,
   "id": "f6cb0420",
   "metadata": {},
   "outputs": [],
   "source": [
    "\n",
    "fig, ax = plt.subplots(1,1)\n",
    "ax.hist(pic50[:,None], bins=32, label=\"pIC50\", color=my_cmap(64), alpha=0.25)\n",
    "ax.set_ylabel(\"pIC50\")\n",
    "ax2 = ax.twinx()\n",
    "\n",
    "ax2.hist(pki[:, None], bins=32, label=\"pKi\", color=my_cmap(192),alpha=0.25)\n",
    "\n",
    "ax2.set_ylabel(\"pKi\")\n",
    "ax.set_title(\"pKi and  pIC50\")\n",
    "ax2.legend(loc=1)\n",
    "ax.legend(loc=2)\n",
    "plt.tight_layout()\n",
    "plt.savefig(\"../assets/histogram.png\")\n",
    "plt.show()"
   ]
  },
  {
   "cell_type": "code",
   "execution_count": null,
   "id": "d037be52",
   "metadata": {},
   "outputs": [],
   "source": []
  }
 ],
 "metadata": {
  "kernelspec": {
   "display_name": "Python 3 (ipykernel)",
   "language": "python",
   "name": "python3"
  },
  "language_info": {
   "codemirror_mode": {
    "name": "ipython",
    "version": 3
   },
   "file_extension": ".py",
   "mimetype": "text/x-python",
   "name": "python",
   "nbconvert_exporter": "python",
   "pygments_lexer": "ipython3",
   "version": "3.8.0"
  }
 },
 "nbformat": 4,
 "nbformat_minor": 5
}
