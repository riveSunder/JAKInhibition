{
 "cells": [
  {
   "cell_type": "markdown",
   "id": "d8adc015",
   "metadata": {},
   "source": [
    "# Model Deployment\n",
    "\n",
    "![example](../assets/inference_example.png)\n",
    "\n",
    "<div align=\"center\">\n",
    "    Demo output from prototype\n",
    "    </div>\n",
    "\n",
    "## Jupyterlab and mybinder \n",
    "\n",
    "I often use mybinder along with notebooks and and/or a [`bokeh`](https://bokeh.org/) server to share computational demos and visualizations associated with papers. \n",
    "\n",
    "I took a similar approach here to make a deployment prototype. While the bokeh server demos make for a more streamlined 'web app' style, they tend to break with mybinder updates so in this case I implemented a notebook demo. You can try it out in mybinder [here -> https://mybinder.org/v2/gh/riveSunder/JAKInhibition/HEAD?labpath=notebooks%2Fmockup.ipynb](https://mybinder.org/v2/gh/riveSunder/JAKInhibition/HEAD?labpath=notebooks%2Fmockup.ipynb), or open the [notebook locally](mockup.ipynb)\n",
    "\n",
    "While mybinder is slow, I do think that hosting your own `jupyerlab` instances makes sense for prototype deployments for this type of system. \n",
    "\n",
    "### Using the notebook to predict kinase pKi (or pIC50) \n",
    "\n",
    "#### Getting set up: run cells 1 through 5\n",
    "\n",
    "These cells initialize the models and load their parameters. They also load the training dataset csv and randomly sample several SMILES sequences the user can try. \n",
    "\n",
    "![initial cells](../assets/initial_cells.png)\n",
    "\n",
    "#### Inference loop\n",
    "\n",
    "The final cell takes input from the user (either pasting in a SMILES representation or choosing one of the examples by index), and estimates pIC50 and pKi for the molecule. \n",
    "\n",
    "The SMILES sequence is encoded by a transformer model, and the resulting features are then passed to an ensemble of MLPs which estimate inhibition metrics. The population of estimates from the ensemble are then visualized in a box plot. If any measurements are present in the loaded dataset, these are overlaid on the same plot. The statistics for the ensemble predictions (mean and standard deviation) are printed out.\n",
    "\n",
    "The user can indicate they wish to continue querying the models by typing 'y', and the loop continues until there is an interrupt or the user types 'n' at the end instead. \n",
    "\n",
    "![inference loop](../assets/inference_loop.png)\n",
    "\n",
    "\n"
   ]
  },
  {
   "cell_type": "code",
   "execution_count": null,
   "id": "f5ebe65d",
   "metadata": {},
   "outputs": [],
   "source": []
  }
 ],
 "metadata": {
  "kernelspec": {
   "display_name": "Python 3 (ipykernel)",
   "language": "python",
   "name": "python3"
  },
  "language_info": {
   "codemirror_mode": {
    "name": "ipython",
    "version": 3
   },
   "file_extension": ".py",
   "mimetype": "text/x-python",
   "name": "python",
   "nbconvert_exporter": "python",
   "pygments_lexer": "ipython3",
   "version": "3.8.0"
  }
 },
 "nbformat": 4,
 "nbformat_minor": 5
}
